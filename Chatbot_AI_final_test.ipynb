{
  "nbformat": 4,
  "nbformat_minor": 0,
  "metadata": {
    "colab": {
      "provenance": []
    },
    "kernelspec": {
      "name": "python3",
      "display_name": "Python 3"
    },
    "language_info": {
      "name": "python"
    }
  },
  "cells": [
    {
      "cell_type": "code",
      "source": [
        "!pip install chatterbot\n",
        "!pip install chatterbot_corpus\n",
        "!pip install sqlalchemy>=1.3,<1.4"
      ],
      "metadata": {
        "id": "xeHpoRM383lB"
      },
      "execution_count": null,
      "outputs": []
    },
    {
      "cell_type": "code",
      "execution_count": null,
      "metadata": {
        "id": "xwKgqWXK8wJk"
      },
      "outputs": [],
      "source": [
        "#import libraries\n",
        "from chatterbot import ChatBot\n",
        "from chatterbot.trainers import ChatterBotCorpusTrainer\n",
        "from chatterbot.storage import StorageAdapter\n",
        "from chatterbot.logic import LogicAdapter\n",
        "\n",
        "#Defining the chatbot\n",
        "mybot = ChatBot('Vision',storage_adapter='chatterbot.storage.SQLStorageAdapter', #read_only=True, #Used when chatbot is not in learning phase\n",
        "    logic_adapters=['chatterbot.logic.BestMatch',\n",
        "        'chatterbot.logic.MathematicalEvaluation',#'chatterbot.logic.TimeLogicAdapter'\n",
        "         \n",
        "    ], preprocessors=[\n",
        "        'chatterbot.preprocessors.clean_whitespace'\n",
        "    ],\n",
        "    database_uri='sqlite:///database.sqlite3')"
      ]
    },
    {
      "cell_type": "code",
      "source": [
        "#Training the chatbot\n",
        "from chatterbot.trainers import ListTrainer\n",
        "trainer = ListTrainer(mybot)\n",
        "greeting = [\n",
        "    \"Hello\",\n",
        "    \"Hi\",\n",
        "    \"Hello boss\",\n",
        "    \"What is Your Name?\",\n",
        "    \"My Name is Vision. I am a ChatBot.\",\n",
        "    \"Where are you from?\",\n",
        "    \"I am from Nepal. Wbu?\",\n",
        "    \"I am from another universe.\",\n",
        "    \"I love you\",\n",
        "    \"I love you too, mwahh\",\n",
        "    \"What's up?\",\n",
        "    \"All good\",\n",
        "    \"How are you?\",\n",
        "    \"I'm fine, you?\",\n",
        "    \"Thats good to hear\",\n",
        "    \"Thank you.\",\n",
        "    \"You're welcome.\"\n",
        "]\n",
        "trainer.train(greeting)\n",
        "\n",
        "conversation = [\"Tell me a joke\",\n",
        "                \"A horse walks into a bar. The bartender says, 'Why the long face?'\",\n",
        "                \"Who will win the world cup?\",\n",
        "                \"I vote for Argentina.\"]\n",
        "trainer.train(conversation)\n",
        "nepali = [\n",
        "    \"Namaste.\",\n",
        "    \"Namaste Hajur.\",\n",
        "    \"Khana Khayeu?\",\n",
        "    \"Khana Khaye, Tmile khayeu?\",\n",
        "    \"Maile pani khaye.\",\n",
        "    \"Very good. Syabaas.\"\n",
        "]\n",
        "trainer.train(nepali)\n"
      ],
      "metadata": {
        "id": "JqB1D1qlMoQ1",
        "colab": {
          "base_uri": "https://localhost:8080/"
        },
        "outputId": "fa36c9ef-c268-471d-f462-4542d3b175c3"
      },
      "execution_count": 4,
      "outputs": [
        {
          "output_type": "stream",
          "name": "stdout",
          "text": [
            "List Trainer: [####################] 100%\n",
            "List Trainer: [####################] 100%\n",
            "List Trainer: [####################] 100%\n"
          ]
        }
      ]
    },
    {
      "cell_type": "code",
      "source": [
        "#training from corpus\n",
        "from chatterbot.trainers import ChatterBotCorpusTrainer\n",
        "trainer = ChatterBotCorpusTrainer(mybot)\n",
        "trainer.train(\n",
        "    \"chatterbot.corpus.english\",\n",
        "    )"
      ],
      "metadata": {
        "id": "Ize74sPS4fE8"
      },
      "execution_count": null,
      "outputs": []
    },
    {
      "cell_type": "code",
      "source": [
        "#training the bot from dataset\n",
        "data1 = \"./dataset.tsv\"\n",
        "file1 = open(data1, \"r\")\n",
        "training_data1 = file1.read().splitlines()\n",
        "trainer = ListTrainer(mybot)\n",
        "trainer.train(training_data1)"
      ],
      "metadata": {
        "id": "S7HwGh0McOuG"
      },
      "execution_count": null,
      "outputs": []
    },
    {
      "cell_type": "code",
      "source": [
        "#Generating response\n",
        "print (\"Soujanya Subedi's Chatbot\")\n",
        "flag= True\n",
        "while(flag==True):\n",
        "  response = input('>')\n",
        "  response = response.lower()\n",
        "  exit_conditions = [\"bye\",\"exit\",\"goodbye\"]\n",
        "  if (response in exit_conditions):\n",
        "    flag=False\n",
        "    print(\"Bot: Goodbye\")\n",
        "   \n",
        "  else:\n",
        "     print (mybot.get_response('Bot:'+response))"
      ],
      "metadata": {
        "id": "7BJMxmtK9XuZ",
        "colab": {
          "base_uri": "https://localhost:8080/"
        },
        "outputId": "1d57a8a0-50c5-4bad-fba6-972df778e77e"
      },
      "execution_count": 10,
      "outputs": [
        {
          "output_type": "stream",
          "name": "stdout",
          "text": [
            "Soujanya Subedi's Chatbot\n",
            ">Hello\n",
            "what is bioinformatics\n",
            ">Hi\n",
            "what do you get when you cross a cat and a band?\n",
            ">I dont know\n",
            "he is a fictional character.\n",
            ">okay\n",
            "Python.\n",
            ">goodbye\n",
            "Bot: Goodbye\n"
          ]
        }
      ]
    }
  ]
}